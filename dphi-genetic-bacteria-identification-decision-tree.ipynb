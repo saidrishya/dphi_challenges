{
 "cells": [
  {
   "cell_type": "code",
   "execution_count": 1,
   "id": "4de4c70e",
   "metadata": {
    "_cell_guid": "b1076dfc-b9ad-4769-8c92-a6c4dae69d19",
    "_uuid": "8f2839f25d086af736a60e9eeb907d3b93b6e0e5",
    "execution": {
     "iopub.execute_input": "2022-03-06T15:40:09.475313Z",
     "iopub.status.busy": "2022-03-06T15:40:09.473816Z",
     "iopub.status.idle": "2022-03-06T15:40:11.423414Z",
     "shell.execute_reply": "2022-03-06T15:40:11.423890Z",
     "shell.execute_reply.started": "2022-03-06T15:37:28.147176Z"
    },
    "papermill": {
     "duration": 1.975188,
     "end_time": "2022-03-06T15:40:11.424142",
     "exception": false,
     "start_time": "2022-03-06T15:40:09.448954",
     "status": "completed"
    },
    "tags": []
   },
   "outputs": [
    {
     "data": {
      "text/html": [
       "<div>\n",
       "<style scoped>\n",
       "    .dataframe tbody tr th:only-of-type {\n",
       "        vertical-align: middle;\n",
       "    }\n",
       "\n",
       "    .dataframe tbody tr th {\n",
       "        vertical-align: top;\n",
       "    }\n",
       "\n",
       "    .dataframe thead th {\n",
       "        text-align: right;\n",
       "    }\n",
       "</style>\n",
       "<table border=\"1\" class=\"dataframe\">\n",
       "  <thead>\n",
       "    <tr style=\"text-align: right;\">\n",
       "      <th></th>\n",
       "      <th>row_id</th>\n",
       "      <th>A0T0G0C10</th>\n",
       "      <th>A0T0G1C9</th>\n",
       "      <th>A0T0G2C8</th>\n",
       "      <th>A0T0G3C7</th>\n",
       "      <th>A0T0G4C6</th>\n",
       "      <th>A0T0G5C5</th>\n",
       "      <th>A0T0G6C4</th>\n",
       "      <th>A0T0G7C3</th>\n",
       "      <th>A0T0G8C2</th>\n",
       "      <th>...</th>\n",
       "      <th>A8T0G1C1</th>\n",
       "      <th>A8T0G2C0</th>\n",
       "      <th>A8T1G0C1</th>\n",
       "      <th>A8T1G1C0</th>\n",
       "      <th>A8T2G0C0</th>\n",
       "      <th>A9T0G0C1</th>\n",
       "      <th>A9T0G1C0</th>\n",
       "      <th>A9T1G0C0</th>\n",
       "      <th>A10T0G0C0</th>\n",
       "      <th>target</th>\n",
       "    </tr>\n",
       "  </thead>\n",
       "  <tbody>\n",
       "    <tr>\n",
       "      <th>0</th>\n",
       "      <td>197019</td>\n",
       "      <td>4.630000e-08</td>\n",
       "      <td>2.460000e-06</td>\n",
       "      <td>3.080000e-06</td>\n",
       "      <td>0.000063</td>\n",
       "      <td>0.000150</td>\n",
       "      <td>1.296740e-04</td>\n",
       "      <td>0.000110</td>\n",
       "      <td>0.000074</td>\n",
       "      <td>0.000003</td>\n",
       "      <td>...</td>\n",
       "      <td>0.000040</td>\n",
       "      <td>0.000030</td>\n",
       "      <td>0.000043</td>\n",
       "      <td>0.000055</td>\n",
       "      <td>0.000028</td>\n",
       "      <td>0.000001</td>\n",
       "      <td>0.000005</td>\n",
       "      <td>9.460000e-06</td>\n",
       "      <td>4.630000e-08</td>\n",
       "      <td>Salmonella_enterica</td>\n",
       "    </tr>\n",
       "    <tr>\n",
       "      <th>1</th>\n",
       "      <td>28056</td>\n",
       "      <td>-9.540000e-07</td>\n",
       "      <td>-5.540000e-06</td>\n",
       "      <td>3.080000e-06</td>\n",
       "      <td>0.000048</td>\n",
       "      <td>0.000087</td>\n",
       "      <td>3.870000e-05</td>\n",
       "      <td>0.000055</td>\n",
       "      <td>0.000041</td>\n",
       "      <td>-0.000009</td>\n",
       "      <td>...</td>\n",
       "      <td>0.000116</td>\n",
       "      <td>0.000068</td>\n",
       "      <td>0.000142</td>\n",
       "      <td>0.000125</td>\n",
       "      <td>0.000093</td>\n",
       "      <td>0.000009</td>\n",
       "      <td>0.000012</td>\n",
       "      <td>3.250000e-05</td>\n",
       "      <td>4.630000e-08</td>\n",
       "      <td>Escherichia_coli</td>\n",
       "    </tr>\n",
       "    <tr>\n",
       "      <th>2</th>\n",
       "      <td>8210</td>\n",
       "      <td>-9.540000e-07</td>\n",
       "      <td>1.050000e-05</td>\n",
       "      <td>1.710000e-05</td>\n",
       "      <td>-0.000004</td>\n",
       "      <td>-0.000020</td>\n",
       "      <td>7.970000e-05</td>\n",
       "      <td>-0.000030</td>\n",
       "      <td>0.000036</td>\n",
       "      <td>-0.000043</td>\n",
       "      <td>...</td>\n",
       "      <td>0.000054</td>\n",
       "      <td>0.000097</td>\n",
       "      <td>0.000064</td>\n",
       "      <td>0.000114</td>\n",
       "      <td>-0.000003</td>\n",
       "      <td>-0.000010</td>\n",
       "      <td>0.000021</td>\n",
       "      <td>4.630000e-07</td>\n",
       "      <td>-9.540000e-07</td>\n",
       "      <td>Streptococcus_pneumoniae</td>\n",
       "    </tr>\n",
       "    <tr>\n",
       "      <th>3</th>\n",
       "      <td>98476</td>\n",
       "      <td>4.630000e-08</td>\n",
       "      <td>1.460000e-06</td>\n",
       "      <td>8.470000e-08</td>\n",
       "      <td>0.000008</td>\n",
       "      <td>0.000030</td>\n",
       "      <td>2.970000e-05</td>\n",
       "      <td>0.000036</td>\n",
       "      <td>0.000022</td>\n",
       "      <td>0.000003</td>\n",
       "      <td>...</td>\n",
       "      <td>0.000048</td>\n",
       "      <td>0.000025</td>\n",
       "      <td>0.000039</td>\n",
       "      <td>0.000042</td>\n",
       "      <td>0.000019</td>\n",
       "      <td>0.000004</td>\n",
       "      <td>0.000002</td>\n",
       "      <td>4.460000e-06</td>\n",
       "      <td>4.630000e-08</td>\n",
       "      <td>Escherichia_coli</td>\n",
       "    </tr>\n",
       "    <tr>\n",
       "      <th>4</th>\n",
       "      <td>166342</td>\n",
       "      <td>-9.540000e-07</td>\n",
       "      <td>4.630000e-07</td>\n",
       "      <td>-1.290000e-05</td>\n",
       "      <td>0.000036</td>\n",
       "      <td>0.000060</td>\n",
       "      <td>-3.260000e-07</td>\n",
       "      <td>-0.000040</td>\n",
       "      <td>0.000066</td>\n",
       "      <td>-0.000033</td>\n",
       "      <td>...</td>\n",
       "      <td>0.000134</td>\n",
       "      <td>0.000087</td>\n",
       "      <td>0.000134</td>\n",
       "      <td>0.000134</td>\n",
       "      <td>0.000037</td>\n",
       "      <td>0.000010</td>\n",
       "      <td>0.000010</td>\n",
       "      <td>4.050000e-05</td>\n",
       "      <td>-9.540000e-07</td>\n",
       "      <td>Escherichia_fergusonii</td>\n",
       "    </tr>\n",
       "  </tbody>\n",
       "</table>\n",
       "<p>5 rows × 288 columns</p>\n",
       "</div>"
      ],
      "text/plain": [
       "   row_id     A0T0G0C10      A0T0G1C9      A0T0G2C8  A0T0G3C7  A0T0G4C6  \\\n",
       "0  197019  4.630000e-08  2.460000e-06  3.080000e-06  0.000063  0.000150   \n",
       "1   28056 -9.540000e-07 -5.540000e-06  3.080000e-06  0.000048  0.000087   \n",
       "2    8210 -9.540000e-07  1.050000e-05  1.710000e-05 -0.000004 -0.000020   \n",
       "3   98476  4.630000e-08  1.460000e-06  8.470000e-08  0.000008  0.000030   \n",
       "4  166342 -9.540000e-07  4.630000e-07 -1.290000e-05  0.000036  0.000060   \n",
       "\n",
       "       A0T0G5C5  A0T0G6C4  A0T0G7C3  A0T0G8C2  ...  A8T0G1C1  A8T0G2C0  \\\n",
       "0  1.296740e-04  0.000110  0.000074  0.000003  ...  0.000040  0.000030   \n",
       "1  3.870000e-05  0.000055  0.000041 -0.000009  ...  0.000116  0.000068   \n",
       "2  7.970000e-05 -0.000030  0.000036 -0.000043  ...  0.000054  0.000097   \n",
       "3  2.970000e-05  0.000036  0.000022  0.000003  ...  0.000048  0.000025   \n",
       "4 -3.260000e-07 -0.000040  0.000066 -0.000033  ...  0.000134  0.000087   \n",
       "\n",
       "   A8T1G0C1  A8T1G1C0  A8T2G0C0  A9T0G0C1  A9T0G1C0      A9T1G0C0  \\\n",
       "0  0.000043  0.000055  0.000028  0.000001  0.000005  9.460000e-06   \n",
       "1  0.000142  0.000125  0.000093  0.000009  0.000012  3.250000e-05   \n",
       "2  0.000064  0.000114 -0.000003 -0.000010  0.000021  4.630000e-07   \n",
       "3  0.000039  0.000042  0.000019  0.000004  0.000002  4.460000e-06   \n",
       "4  0.000134  0.000134  0.000037  0.000010  0.000010  4.050000e-05   \n",
       "\n",
       "      A10T0G0C0                    target  \n",
       "0  4.630000e-08       Salmonella_enterica  \n",
       "1  4.630000e-08          Escherichia_coli  \n",
       "2 -9.540000e-07  Streptococcus_pneumoniae  \n",
       "3  4.630000e-08          Escherichia_coli  \n",
       "4 -9.540000e-07    Escherichia_fergusonii  \n",
       "\n",
       "[5 rows x 288 columns]"
      ]
     },
     "execution_count": 1,
     "metadata": {},
     "output_type": "execute_result"
    }
   ],
   "source": [
    "import pandas as pd\n",
    "\n",
    "train = pd.read_csv('../input/dphi-genetic-bacteria-identification/train_dataset.csv')\n",
    "train.head()"
   ]
  },
  {
   "cell_type": "code",
   "execution_count": 2,
   "id": "062442e6",
   "metadata": {
    "execution": {
     "iopub.execute_input": "2022-03-06T15:40:11.494625Z",
     "iopub.status.busy": "2022-03-06T15:40:11.475195Z",
     "iopub.status.idle": "2022-03-06T15:40:12.264540Z",
     "shell.execute_reply": "2022-03-06T15:40:12.264955Z",
     "shell.execute_reply.started": "2022-03-06T15:37:30.034952Z"
    },
    "papermill": {
     "duration": 0.818429,
     "end_time": "2022-03-06T15:40:12.265100",
     "exception": false,
     "start_time": "2022-03-06T15:40:11.446671",
     "status": "completed"
    },
    "tags": []
   },
   "outputs": [
    {
     "data": {
      "text/html": [
       "<div>\n",
       "<style scoped>\n",
       "    .dataframe tbody tr th:only-of-type {\n",
       "        vertical-align: middle;\n",
       "    }\n",
       "\n",
       "    .dataframe tbody tr th {\n",
       "        vertical-align: top;\n",
       "    }\n",
       "\n",
       "    .dataframe thead th {\n",
       "        text-align: right;\n",
       "    }\n",
       "</style>\n",
       "<table border=\"1\" class=\"dataframe\">\n",
       "  <thead>\n",
       "    <tr style=\"text-align: right;\">\n",
       "      <th></th>\n",
       "      <th>row_id</th>\n",
       "      <th>A0T0G0C10</th>\n",
       "      <th>A0T0G1C9</th>\n",
       "      <th>A0T0G2C8</th>\n",
       "      <th>A0T0G3C7</th>\n",
       "      <th>A0T0G4C6</th>\n",
       "      <th>A0T0G5C5</th>\n",
       "      <th>A0T0G6C4</th>\n",
       "      <th>A0T0G7C3</th>\n",
       "      <th>A0T0G8C2</th>\n",
       "      <th>...</th>\n",
       "      <th>A8T0G0C2</th>\n",
       "      <th>A8T0G1C1</th>\n",
       "      <th>A8T0G2C0</th>\n",
       "      <th>A8T1G0C1</th>\n",
       "      <th>A8T1G1C0</th>\n",
       "      <th>A8T2G0C0</th>\n",
       "      <th>A9T0G0C1</th>\n",
       "      <th>A9T0G1C0</th>\n",
       "      <th>A9T1G0C0</th>\n",
       "      <th>A10T0G0C0</th>\n",
       "    </tr>\n",
       "  </thead>\n",
       "  <tbody>\n",
       "    <tr>\n",
       "      <th>count</th>\n",
       "      <td>24000.000000</td>\n",
       "      <td>2.400000e+04</td>\n",
       "      <td>24000.000000</td>\n",
       "      <td>24000.000000</td>\n",
       "      <td>24000.000000</td>\n",
       "      <td>24000.000000</td>\n",
       "      <td>2.400000e+04</td>\n",
       "      <td>24000.000000</td>\n",
       "      <td>24000.000000</td>\n",
       "      <td>24000.000000</td>\n",
       "      <td>...</td>\n",
       "      <td>24000.000000</td>\n",
       "      <td>24000.000000</td>\n",
       "      <td>24000.000000</td>\n",
       "      <td>24000.000000</td>\n",
       "      <td>24000.000000</td>\n",
       "      <td>24000.000000</td>\n",
       "      <td>24000.000000</td>\n",
       "      <td>2.400000e+04</td>\n",
       "      <td>2.400000e+04</td>\n",
       "      <td>2.400000e+04</td>\n",
       "    </tr>\n",
       "    <tr>\n",
       "      <th>mean</th>\n",
       "      <td>100068.060208</td>\n",
       "      <td>8.391232e-07</td>\n",
       "      <td>-0.000002</td>\n",
       "      <td>-0.000014</td>\n",
       "      <td>-0.000010</td>\n",
       "      <td>0.000009</td>\n",
       "      <td>1.436741e-05</td>\n",
       "      <td>0.000010</td>\n",
       "      <td>-0.000010</td>\n",
       "      <td>-0.000028</td>\n",
       "      <td>...</td>\n",
       "      <td>0.000136</td>\n",
       "      <td>0.000341</td>\n",
       "      <td>0.000254</td>\n",
       "      <td>0.000461</td>\n",
       "      <td>0.000591</td>\n",
       "      <td>0.000374</td>\n",
       "      <td>0.000059</td>\n",
       "      <td>9.362193e-05</td>\n",
       "      <td>1.195599e-04</td>\n",
       "      <td>3.514586e-07</td>\n",
       "    </tr>\n",
       "    <tr>\n",
       "      <th>std</th>\n",
       "      <td>57588.661702</td>\n",
       "      <td>9.421035e-05</td>\n",
       "      <td>0.000148</td>\n",
       "      <td>0.000287</td>\n",
       "      <td>0.000425</td>\n",
       "      <td>0.000714</td>\n",
       "      <td>8.288626e-04</td>\n",
       "      <td>0.000733</td>\n",
       "      <td>0.000437</td>\n",
       "      <td>0.000088</td>\n",
       "      <td>...</td>\n",
       "      <td>0.000711</td>\n",
       "      <td>0.001099</td>\n",
       "      <td>0.000924</td>\n",
       "      <td>0.001221</td>\n",
       "      <td>0.001573</td>\n",
       "      <td>0.001156</td>\n",
       "      <td>0.000450</td>\n",
       "      <td>5.685651e-04</td>\n",
       "      <td>6.837408e-04</td>\n",
       "      <td>2.338609e-05</td>\n",
       "    </tr>\n",
       "    <tr>\n",
       "      <th>min</th>\n",
       "      <td>1.000000</td>\n",
       "      <td>-9.540000e-07</td>\n",
       "      <td>-0.000010</td>\n",
       "      <td>-0.000043</td>\n",
       "      <td>-0.000114</td>\n",
       "      <td>-0.000200</td>\n",
       "      <td>-2.403260e-04</td>\n",
       "      <td>-0.000200</td>\n",
       "      <td>-0.000114</td>\n",
       "      <td>-0.000043</td>\n",
       "      <td>...</td>\n",
       "      <td>-0.000043</td>\n",
       "      <td>-0.000086</td>\n",
       "      <td>-0.000043</td>\n",
       "      <td>-0.000086</td>\n",
       "      <td>-0.000086</td>\n",
       "      <td>-0.000043</td>\n",
       "      <td>-0.000010</td>\n",
       "      <td>-9.540000e-06</td>\n",
       "      <td>-9.540000e-06</td>\n",
       "      <td>-9.540000e-07</td>\n",
       "    </tr>\n",
       "    <tr>\n",
       "      <th>25%</th>\n",
       "      <td>50283.750000</td>\n",
       "      <td>-9.540000e-07</td>\n",
       "      <td>-0.000010</td>\n",
       "      <td>-0.000043</td>\n",
       "      <td>-0.000114</td>\n",
       "      <td>-0.000200</td>\n",
       "      <td>-2.403260e-04</td>\n",
       "      <td>-0.000200</td>\n",
       "      <td>-0.000114</td>\n",
       "      <td>-0.000043</td>\n",
       "      <td>...</td>\n",
       "      <td>-0.000043</td>\n",
       "      <td>-0.000086</td>\n",
       "      <td>-0.000043</td>\n",
       "      <td>-0.000086</td>\n",
       "      <td>-0.000086</td>\n",
       "      <td>-0.000043</td>\n",
       "      <td>-0.000010</td>\n",
       "      <td>-9.540000e-06</td>\n",
       "      <td>-9.540000e-06</td>\n",
       "      <td>-9.540000e-07</td>\n",
       "    </tr>\n",
       "    <tr>\n",
       "      <th>50%</th>\n",
       "      <td>99779.500000</td>\n",
       "      <td>-9.540000e-07</td>\n",
       "      <td>-0.000010</td>\n",
       "      <td>-0.000043</td>\n",
       "      <td>-0.000114</td>\n",
       "      <td>-0.000200</td>\n",
       "      <td>-2.393260e-04</td>\n",
       "      <td>-0.000200</td>\n",
       "      <td>-0.000114</td>\n",
       "      <td>-0.000043</td>\n",
       "      <td>...</td>\n",
       "      <td>0.000014</td>\n",
       "      <td>0.000063</td>\n",
       "      <td>0.000047</td>\n",
       "      <td>0.000124</td>\n",
       "      <td>0.000116</td>\n",
       "      <td>0.000039</td>\n",
       "      <td>-0.000010</td>\n",
       "      <td>4.630000e-07</td>\n",
       "      <td>4.630000e-07</td>\n",
       "      <td>-9.540000e-07</td>\n",
       "    </tr>\n",
       "    <tr>\n",
       "      <th>75%</th>\n",
       "      <td>150028.750000</td>\n",
       "      <td>-9.540000e-07</td>\n",
       "      <td>-0.000003</td>\n",
       "      <td>-0.000013</td>\n",
       "      <td>-0.000004</td>\n",
       "      <td>-0.000010</td>\n",
       "      <td>6.740000e-07</td>\n",
       "      <td>-0.000030</td>\n",
       "      <td>0.000004</td>\n",
       "      <td>-0.000028</td>\n",
       "      <td>...</td>\n",
       "      <td>0.000108</td>\n",
       "      <td>0.000453</td>\n",
       "      <td>0.000297</td>\n",
       "      <td>0.000674</td>\n",
       "      <td>0.000774</td>\n",
       "      <td>0.000357</td>\n",
       "      <td>0.000030</td>\n",
       "      <td>5.950000e-05</td>\n",
       "      <td>7.050000e-05</td>\n",
       "      <td>-9.540000e-07</td>\n",
       "    </tr>\n",
       "    <tr>\n",
       "      <th>max</th>\n",
       "      <td>199997.000000</td>\n",
       "      <td>9.999046e-03</td>\n",
       "      <td>0.009990</td>\n",
       "      <td>0.009957</td>\n",
       "      <td>0.009886</td>\n",
       "      <td>0.019800</td>\n",
       "      <td>1.975967e-02</td>\n",
       "      <td>0.009800</td>\n",
       "      <td>0.009886</td>\n",
       "      <td>0.009957</td>\n",
       "      <td>...</td>\n",
       "      <td>0.009957</td>\n",
       "      <td>0.019914</td>\n",
       "      <td>0.019957</td>\n",
       "      <td>0.019914</td>\n",
       "      <td>0.019914</td>\n",
       "      <td>0.019957</td>\n",
       "      <td>0.009990</td>\n",
       "      <td>9.990463e-03</td>\n",
       "      <td>1.999046e-02</td>\n",
       "      <td>9.990460e-04</td>\n",
       "    </tr>\n",
       "  </tbody>\n",
       "</table>\n",
       "<p>8 rows × 287 columns</p>\n",
       "</div>"
      ],
      "text/plain": [
       "              row_id     A0T0G0C10      A0T0G1C9      A0T0G2C8      A0T0G3C7  \\\n",
       "count   24000.000000  2.400000e+04  24000.000000  24000.000000  24000.000000   \n",
       "mean   100068.060208  8.391232e-07     -0.000002     -0.000014     -0.000010   \n",
       "std     57588.661702  9.421035e-05      0.000148      0.000287      0.000425   \n",
       "min         1.000000 -9.540000e-07     -0.000010     -0.000043     -0.000114   \n",
       "25%     50283.750000 -9.540000e-07     -0.000010     -0.000043     -0.000114   \n",
       "50%     99779.500000 -9.540000e-07     -0.000010     -0.000043     -0.000114   \n",
       "75%    150028.750000 -9.540000e-07     -0.000003     -0.000013     -0.000004   \n",
       "max    199997.000000  9.999046e-03      0.009990      0.009957      0.009886   \n",
       "\n",
       "           A0T0G4C6      A0T0G5C5      A0T0G6C4      A0T0G7C3      A0T0G8C2  \\\n",
       "count  24000.000000  2.400000e+04  24000.000000  24000.000000  24000.000000   \n",
       "mean       0.000009  1.436741e-05      0.000010     -0.000010     -0.000028   \n",
       "std        0.000714  8.288626e-04      0.000733      0.000437      0.000088   \n",
       "min       -0.000200 -2.403260e-04     -0.000200     -0.000114     -0.000043   \n",
       "25%       -0.000200 -2.403260e-04     -0.000200     -0.000114     -0.000043   \n",
       "50%       -0.000200 -2.393260e-04     -0.000200     -0.000114     -0.000043   \n",
       "75%       -0.000010  6.740000e-07     -0.000030      0.000004     -0.000028   \n",
       "max        0.019800  1.975967e-02      0.009800      0.009886      0.009957   \n",
       "\n",
       "       ...      A8T0G0C2      A8T0G1C1      A8T0G2C0      A8T1G0C1  \\\n",
       "count  ...  24000.000000  24000.000000  24000.000000  24000.000000   \n",
       "mean   ...      0.000136      0.000341      0.000254      0.000461   \n",
       "std    ...      0.000711      0.001099      0.000924      0.001221   \n",
       "min    ...     -0.000043     -0.000086     -0.000043     -0.000086   \n",
       "25%    ...     -0.000043     -0.000086     -0.000043     -0.000086   \n",
       "50%    ...      0.000014      0.000063      0.000047      0.000124   \n",
       "75%    ...      0.000108      0.000453      0.000297      0.000674   \n",
       "max    ...      0.009957      0.019914      0.019957      0.019914   \n",
       "\n",
       "           A8T1G1C0      A8T2G0C0      A9T0G0C1      A9T0G1C0      A9T1G0C0  \\\n",
       "count  24000.000000  24000.000000  24000.000000  2.400000e+04  2.400000e+04   \n",
       "mean       0.000591      0.000374      0.000059  9.362193e-05  1.195599e-04   \n",
       "std        0.001573      0.001156      0.000450  5.685651e-04  6.837408e-04   \n",
       "min       -0.000086     -0.000043     -0.000010 -9.540000e-06 -9.540000e-06   \n",
       "25%       -0.000086     -0.000043     -0.000010 -9.540000e-06 -9.540000e-06   \n",
       "50%        0.000116      0.000039     -0.000010  4.630000e-07  4.630000e-07   \n",
       "75%        0.000774      0.000357      0.000030  5.950000e-05  7.050000e-05   \n",
       "max        0.019914      0.019957      0.009990  9.990463e-03  1.999046e-02   \n",
       "\n",
       "          A10T0G0C0  \n",
       "count  2.400000e+04  \n",
       "mean   3.514586e-07  \n",
       "std    2.338609e-05  \n",
       "min   -9.540000e-07  \n",
       "25%   -9.540000e-07  \n",
       "50%   -9.540000e-07  \n",
       "75%   -9.540000e-07  \n",
       "max    9.990460e-04  \n",
       "\n",
       "[8 rows x 287 columns]"
      ]
     },
     "execution_count": 2,
     "metadata": {},
     "output_type": "execute_result"
    }
   ],
   "source": [
    "train.describe()"
   ]
  },
  {
   "cell_type": "code",
   "execution_count": 3,
   "id": "a00b4c49",
   "metadata": {
    "execution": {
     "iopub.execute_input": "2022-03-06T15:40:12.315572Z",
     "iopub.status.busy": "2022-03-06T15:40:12.314939Z",
     "iopub.status.idle": "2022-03-06T15:40:12.608388Z",
     "shell.execute_reply": "2022-03-06T15:40:12.604763Z",
     "shell.execute_reply.started": "2022-03-06T15:37:30.960972Z"
    },
    "papermill": {
     "duration": 0.322115,
     "end_time": "2022-03-06T15:40:12.608651",
     "exception": false,
     "start_time": "2022-03-06T15:40:12.286536",
     "status": "completed"
    },
    "tags": []
   },
   "outputs": [
    {
     "data": {
      "text/plain": [
       "<AxesSubplot:>"
      ]
     },
     "execution_count": 3,
     "metadata": {},
     "output_type": "execute_result"
    },
    {
     "data": {
      "image/png": "[encoded data removed]",
      "text/plain": [
       "<Figure size 432x288 with 1 Axes>"
      ]
     },
     "metadata": {
      "needs_background": "light"
     },
     "output_type": "display_data"
    }
   ],
   "source": [
    "import matplotlib.pyplot as plt\n",
    "train['target'].value_counts().plot(kind='bar')\n"
   ]
  },
  {
   "cell_type": "code",
   "execution_count": 4,
   "id": "a0c0350c",
   "metadata": {
    "execution": {
     "iopub.execute_input": "2022-03-06T15:40:12.698226Z",
     "iopub.status.busy": "2022-03-06T15:40:12.697450Z",
     "iopub.status.idle": "2022-03-06T15:40:12.723723Z",
     "shell.execute_reply": "2022-03-06T15:40:12.724766Z",
     "shell.execute_reply.started": "2022-03-06T15:37:31.225932Z"
    },
    "papermill": {
     "duration": 0.075412,
     "end_time": "2022-03-06T15:40:12.724953",
     "exception": false,
     "start_time": "2022-03-06T15:40:12.649541",
     "status": "completed"
    },
    "tags": []
   },
   "outputs": [
    {
     "data": {
      "text/plain": [
       "row_id       0\n",
       "A0T0G0C10    0\n",
       "A0T0G1C9     0\n",
       "A0T0G2C8     0\n",
       "A0T0G3C7     0\n",
       "            ..\n",
       "A9T0G0C1     0\n",
       "A9T0G1C0     0\n",
       "A9T1G0C0     0\n",
       "A10T0G0C0    0\n",
       "target       0\n",
       "Length: 288, dtype: int64"
      ]
     },
     "execution_count": 4,
     "metadata": {},
     "output_type": "execute_result"
    }
   ],
   "source": [
    "train.isnull().sum()"
   ]
  },
  {
   "cell_type": "code",
   "execution_count": 5,
   "id": "7aa08b47",
   "metadata": {
    "execution": {
     "iopub.execute_input": "2022-03-06T15:40:12.835308Z",
     "iopub.status.busy": "2022-03-06T15:40:12.834535Z",
     "iopub.status.idle": "2022-03-06T15:40:12.842531Z",
     "shell.execute_reply": "2022-03-06T15:40:12.843558Z",
     "shell.execute_reply.started": "2022-03-06T15:37:31.253354Z"
    },
    "papermill": {
     "duration": 0.075286,
     "end_time": "2022-03-06T15:40:12.843738",
     "exception": false,
     "start_time": "2022-03-06T15:40:12.768452",
     "status": "completed"
    },
    "tags": []
   },
   "outputs": [
    {
     "data": {
      "text/plain": [
       "((24000, 287), (24000,))"
      ]
     },
     "execution_count": 5,
     "metadata": {},
     "output_type": "execute_result"
    }
   ],
   "source": [
    "X  = train.iloc[:, :-1]\n",
    "y = train.iloc[:, -1]\n",
    "#X_test= test\n",
    "X.shape, y.shape"
   ]
  },
  {
   "cell_type": "code",
   "execution_count": 6,
   "id": "0537e756",
   "metadata": {
    "execution": {
     "iopub.execute_input": "2022-03-06T15:40:12.934260Z",
     "iopub.status.busy": "2022-03-06T15:40:12.933385Z",
     "iopub.status.idle": "2022-03-06T15:40:13.710417Z",
     "shell.execute_reply": "2022-03-06T15:40:13.709939Z",
     "shell.execute_reply.started": "2022-03-06T15:37:31.279135Z"
    },
    "papermill": {
     "duration": 0.822811,
     "end_time": "2022-03-06T15:40:13.710566",
     "exception": false,
     "start_time": "2022-03-06T15:40:12.887755",
     "status": "completed"
    },
    "tags": []
   },
   "outputs": [],
   "source": [
    "import numpy as np\n",
    "from sklearn.model_selection import train_test_split\n",
    "from sklearn.preprocessing import LabelEncoder, StandardScaler\n",
    "\n",
    "X_train, X_test, y_train, y_test = train_test_split(X, y, test_size=0.3)"
   ]
  },
  {
   "cell_type": "code",
   "execution_count": 7,
   "id": "1b62001e",
   "metadata": {
    "execution": {
     "iopub.execute_input": "2022-03-06T15:40:13.763426Z",
     "iopub.status.busy": "2022-03-06T15:40:13.762770Z",
     "iopub.status.idle": "2022-03-06T15:40:13.765229Z",
     "shell.execute_reply": "2022-03-06T15:40:13.765663Z",
     "shell.execute_reply.started": "2022-03-06T15:37:32.140849Z"
    },
    "papermill": {
     "duration": 0.031203,
     "end_time": "2022-03-06T15:40:13.765789",
     "exception": false,
     "start_time": "2022-03-06T15:40:13.734586",
     "status": "completed"
    },
    "tags": []
   },
   "outputs": [
    {
     "data": {
      "text/plain": [
       "(16800, 287)"
      ]
     },
     "execution_count": 7,
     "metadata": {},
     "output_type": "execute_result"
    }
   ],
   "source": [
    "X_train.shape"
   ]
  },
  {
   "cell_type": "code",
   "execution_count": 8,
   "id": "606e714f",
   "metadata": {
    "execution": {
     "iopub.execute_input": "2022-03-06T15:40:13.815828Z",
     "iopub.status.busy": "2022-03-06T15:40:13.814156Z",
     "iopub.status.idle": "2022-03-06T15:40:13.818773Z",
     "shell.execute_reply": "2022-03-06T15:40:13.818253Z",
     "shell.execute_reply.started": "2022-03-06T15:37:32.148548Z"
    },
    "papermill": {
     "duration": 0.029681,
     "end_time": "2022-03-06T15:40:13.818892",
     "exception": false,
     "start_time": "2022-03-06T15:40:13.789211",
     "status": "completed"
    },
    "tags": []
   },
   "outputs": [],
   "source": [
    "#scaler = StandardScaler().fit(X_train)\n",
    "#X_train = scaler.transform(X_train)\n",
    "#X_test = scaler.transform(X_test)"
   ]
  },
  {
   "cell_type": "code",
   "execution_count": 9,
   "id": "bd21309c",
   "metadata": {
    "execution": {
     "iopub.execute_input": "2022-03-06T15:40:13.872059Z",
     "iopub.status.busy": "2022-03-06T15:40:13.871275Z",
     "iopub.status.idle": "2022-03-06T15:40:13.896505Z",
     "shell.execute_reply": "2022-03-06T15:40:13.896919Z",
     "shell.execute_reply.started": "2022-03-06T15:37:32.157391Z"
    },
    "papermill": {
     "duration": 0.054513,
     "end_time": "2022-03-06T15:40:13.897034",
     "exception": false,
     "start_time": "2022-03-06T15:40:13.842521",
     "status": "completed"
    },
    "tags": []
   },
   "outputs": [
    {
     "data": {
      "text/html": [
       "<div>\n",
       "<style scoped>\n",
       "    .dataframe tbody tr th:only-of-type {\n",
       "        vertical-align: middle;\n",
       "    }\n",
       "\n",
       "    .dataframe tbody tr th {\n",
       "        vertical-align: top;\n",
       "    }\n",
       "\n",
       "    .dataframe thead th {\n",
       "        text-align: right;\n",
       "    }\n",
       "</style>\n",
       "<table border=\"1\" class=\"dataframe\">\n",
       "  <thead>\n",
       "    <tr style=\"text-align: right;\">\n",
       "      <th></th>\n",
       "      <th>row_id</th>\n",
       "      <th>A0T0G0C10</th>\n",
       "      <th>A0T0G1C9</th>\n",
       "      <th>A0T0G2C8</th>\n",
       "      <th>A0T0G3C7</th>\n",
       "      <th>A0T0G4C6</th>\n",
       "      <th>A0T0G5C5</th>\n",
       "      <th>A0T0G6C4</th>\n",
       "      <th>A0T0G7C3</th>\n",
       "      <th>A0T0G8C2</th>\n",
       "      <th>...</th>\n",
       "      <th>A8T0G0C2</th>\n",
       "      <th>A8T0G1C1</th>\n",
       "      <th>A8T0G2C0</th>\n",
       "      <th>A8T1G0C1</th>\n",
       "      <th>A8T1G1C0</th>\n",
       "      <th>A8T2G0C0</th>\n",
       "      <th>A9T0G0C1</th>\n",
       "      <th>A9T0G1C0</th>\n",
       "      <th>A9T1G0C0</th>\n",
       "      <th>A10T0G0C0</th>\n",
       "    </tr>\n",
       "  </thead>\n",
       "  <tbody>\n",
       "    <tr>\n",
       "      <th>18318</th>\n",
       "      <td>99455</td>\n",
       "      <td>4.630000e-08</td>\n",
       "      <td>3.460000e-06</td>\n",
       "      <td>8.470000e-08</td>\n",
       "      <td>-0.000015</td>\n",
       "      <td>0.000007</td>\n",
       "      <td>-0.000005</td>\n",
       "      <td>-0.000005</td>\n",
       "      <td>0.000003</td>\n",
       "      <td>0.000003</td>\n",
       "      <td>...</td>\n",
       "      <td>0.000041</td>\n",
       "      <td>0.000138</td>\n",
       "      <td>0.000077</td>\n",
       "      <td>0.000203</td>\n",
       "      <td>0.000216</td>\n",
       "      <td>0.000160</td>\n",
       "      <td>0.000027</td>\n",
       "      <td>0.000041</td>\n",
       "      <td>0.000041</td>\n",
       "      <td>4.630000e-08</td>\n",
       "    </tr>\n",
       "    <tr>\n",
       "      <th>6468</th>\n",
       "      <td>146199</td>\n",
       "      <td>-9.540000e-07</td>\n",
       "      <td>1.050000e-05</td>\n",
       "      <td>4.710000e-05</td>\n",
       "      <td>0.000046</td>\n",
       "      <td>0.000080</td>\n",
       "      <td>0.000230</td>\n",
       "      <td>0.000150</td>\n",
       "      <td>0.000096</td>\n",
       "      <td>-0.000023</td>\n",
       "      <td>...</td>\n",
       "      <td>0.000027</td>\n",
       "      <td>0.000034</td>\n",
       "      <td>0.000057</td>\n",
       "      <td>0.000034</td>\n",
       "      <td>0.000034</td>\n",
       "      <td>-0.000033</td>\n",
       "      <td>-0.000010</td>\n",
       "      <td>0.000010</td>\n",
       "      <td>-0.000010</td>\n",
       "      <td>-9.540000e-07</td>\n",
       "    </tr>\n",
       "    <tr>\n",
       "      <th>8917</th>\n",
       "      <td>28866</td>\n",
       "      <td>-9.540000e-07</td>\n",
       "      <td>-9.540000e-06</td>\n",
       "      <td>-4.290000e-05</td>\n",
       "      <td>-0.000114</td>\n",
       "      <td>-0.000200</td>\n",
       "      <td>-0.000240</td>\n",
       "      <td>-0.000200</td>\n",
       "      <td>-0.000114</td>\n",
       "      <td>-0.000043</td>\n",
       "      <td>...</td>\n",
       "      <td>-0.000043</td>\n",
       "      <td>-0.000086</td>\n",
       "      <td>0.001957</td>\n",
       "      <td>-0.000086</td>\n",
       "      <td>-0.000086</td>\n",
       "      <td>-0.000043</td>\n",
       "      <td>-0.000010</td>\n",
       "      <td>-0.000010</td>\n",
       "      <td>-0.000010</td>\n",
       "      <td>-9.540000e-07</td>\n",
       "    </tr>\n",
       "    <tr>\n",
       "      <th>13468</th>\n",
       "      <td>172353</td>\n",
       "      <td>-9.540000e-07</td>\n",
       "      <td>-9.540000e-06</td>\n",
       "      <td>-4.290000e-05</td>\n",
       "      <td>-0.000114</td>\n",
       "      <td>-0.000200</td>\n",
       "      <td>-0.000240</td>\n",
       "      <td>-0.000200</td>\n",
       "      <td>-0.000114</td>\n",
       "      <td>-0.000043</td>\n",
       "      <td>...</td>\n",
       "      <td>-0.000043</td>\n",
       "      <td>-0.000086</td>\n",
       "      <td>-0.000043</td>\n",
       "      <td>-0.000086</td>\n",
       "      <td>-0.000086</td>\n",
       "      <td>-0.000043</td>\n",
       "      <td>-0.000010</td>\n",
       "      <td>-0.000010</td>\n",
       "      <td>-0.000010</td>\n",
       "      <td>-9.540000e-07</td>\n",
       "    </tr>\n",
       "    <tr>\n",
       "      <th>19883</th>\n",
       "      <td>160979</td>\n",
       "      <td>-9.540000e-07</td>\n",
       "      <td>-9.540000e-06</td>\n",
       "      <td>-4.290000e-05</td>\n",
       "      <td>-0.000114</td>\n",
       "      <td>-0.000200</td>\n",
       "      <td>-0.000240</td>\n",
       "      <td>-0.000200</td>\n",
       "      <td>-0.000114</td>\n",
       "      <td>-0.000043</td>\n",
       "      <td>...</td>\n",
       "      <td>-0.000043</td>\n",
       "      <td>-0.000086</td>\n",
       "      <td>-0.000043</td>\n",
       "      <td>-0.000086</td>\n",
       "      <td>-0.000086</td>\n",
       "      <td>-0.000043</td>\n",
       "      <td>-0.000010</td>\n",
       "      <td>-0.000010</td>\n",
       "      <td>-0.000010</td>\n",
       "      <td>-9.540000e-07</td>\n",
       "    </tr>\n",
       "    <tr>\n",
       "      <th>...</th>\n",
       "      <td>...</td>\n",
       "      <td>...</td>\n",
       "      <td>...</td>\n",
       "      <td>...</td>\n",
       "      <td>...</td>\n",
       "      <td>...</td>\n",
       "      <td>...</td>\n",
       "      <td>...</td>\n",
       "      <td>...</td>\n",
       "      <td>...</td>\n",
       "      <td>...</td>\n",
       "      <td>...</td>\n",
       "      <td>...</td>\n",
       "      <td>...</td>\n",
       "      <td>...</td>\n",
       "      <td>...</td>\n",
       "      <td>...</td>\n",
       "      <td>...</td>\n",
       "      <td>...</td>\n",
       "      <td>...</td>\n",
       "      <td>...</td>\n",
       "    </tr>\n",
       "    <tr>\n",
       "      <th>10006</th>\n",
       "      <td>151457</td>\n",
       "      <td>-9.540000e-07</td>\n",
       "      <td>4.630000e-07</td>\n",
       "      <td>7.080000e-06</td>\n",
       "      <td>-0.000024</td>\n",
       "      <td>0.000040</td>\n",
       "      <td>0.000060</td>\n",
       "      <td>0.000040</td>\n",
       "      <td>0.000016</td>\n",
       "      <td>-0.000013</td>\n",
       "      <td>...</td>\n",
       "      <td>0.000027</td>\n",
       "      <td>0.000094</td>\n",
       "      <td>0.000087</td>\n",
       "      <td>0.000134</td>\n",
       "      <td>0.000224</td>\n",
       "      <td>0.000037</td>\n",
       "      <td>0.000010</td>\n",
       "      <td>0.000010</td>\n",
       "      <td>0.000021</td>\n",
       "      <td>-9.540000e-07</td>\n",
       "    </tr>\n",
       "    <tr>\n",
       "      <th>23814</th>\n",
       "      <td>122209</td>\n",
       "      <td>-9.540000e-07</td>\n",
       "      <td>-9.540000e-06</td>\n",
       "      <td>-4.290000e-05</td>\n",
       "      <td>-0.000114</td>\n",
       "      <td>-0.000200</td>\n",
       "      <td>-0.000240</td>\n",
       "      <td>-0.000200</td>\n",
       "      <td>-0.000114</td>\n",
       "      <td>-0.000043</td>\n",
       "      <td>...</td>\n",
       "      <td>-0.000043</td>\n",
       "      <td>-0.000086</td>\n",
       "      <td>-0.000043</td>\n",
       "      <td>-0.000086</td>\n",
       "      <td>-0.000086</td>\n",
       "      <td>-0.000043</td>\n",
       "      <td>-0.000010</td>\n",
       "      <td>-0.000010</td>\n",
       "      <td>-0.000010</td>\n",
       "      <td>-9.540000e-07</td>\n",
       "    </tr>\n",
       "    <tr>\n",
       "      <th>1361</th>\n",
       "      <td>192800</td>\n",
       "      <td>-9.540000e-07</td>\n",
       "      <td>-9.540000e-06</td>\n",
       "      <td>-4.290000e-05</td>\n",
       "      <td>-0.000114</td>\n",
       "      <td>-0.000200</td>\n",
       "      <td>-0.000240</td>\n",
       "      <td>-0.000200</td>\n",
       "      <td>-0.000114</td>\n",
       "      <td>-0.000043</td>\n",
       "      <td>...</td>\n",
       "      <td>-0.000043</td>\n",
       "      <td>-0.000086</td>\n",
       "      <td>-0.000043</td>\n",
       "      <td>-0.000086</td>\n",
       "      <td>-0.000086</td>\n",
       "      <td>-0.000043</td>\n",
       "      <td>-0.000010</td>\n",
       "      <td>-0.000010</td>\n",
       "      <td>-0.000010</td>\n",
       "      <td>-9.540000e-07</td>\n",
       "    </tr>\n",
       "    <tr>\n",
       "      <th>8688</th>\n",
       "      <td>66290</td>\n",
       "      <td>-9.540000e-07</td>\n",
       "      <td>-9.540000e-06</td>\n",
       "      <td>-4.290000e-05</td>\n",
       "      <td>-0.000114</td>\n",
       "      <td>-0.000200</td>\n",
       "      <td>0.000760</td>\n",
       "      <td>0.000800</td>\n",
       "      <td>0.000886</td>\n",
       "      <td>-0.000043</td>\n",
       "      <td>...</td>\n",
       "      <td>-0.000043</td>\n",
       "      <td>-0.000086</td>\n",
       "      <td>-0.000043</td>\n",
       "      <td>-0.000086</td>\n",
       "      <td>-0.000086</td>\n",
       "      <td>-0.000043</td>\n",
       "      <td>-0.000010</td>\n",
       "      <td>-0.000010</td>\n",
       "      <td>-0.000010</td>\n",
       "      <td>-9.540000e-07</td>\n",
       "    </tr>\n",
       "    <tr>\n",
       "      <th>9944</th>\n",
       "      <td>42764</td>\n",
       "      <td>-9.540000e-07</td>\n",
       "      <td>-9.540000e-06</td>\n",
       "      <td>-4.290000e-05</td>\n",
       "      <td>-0.000114</td>\n",
       "      <td>-0.000200</td>\n",
       "      <td>-0.000240</td>\n",
       "      <td>-0.000200</td>\n",
       "      <td>-0.000114</td>\n",
       "      <td>-0.000043</td>\n",
       "      <td>...</td>\n",
       "      <td>-0.000043</td>\n",
       "      <td>0.000914</td>\n",
       "      <td>0.000957</td>\n",
       "      <td>-0.000086</td>\n",
       "      <td>0.001914</td>\n",
       "      <td>-0.000043</td>\n",
       "      <td>-0.000010</td>\n",
       "      <td>-0.000010</td>\n",
       "      <td>-0.000010</td>\n",
       "      <td>-9.540000e-07</td>\n",
       "    </tr>\n",
       "  </tbody>\n",
       "</table>\n",
       "<p>16800 rows × 287 columns</p>\n",
       "</div>"
      ],
      "text/plain": [
       "       row_id     A0T0G0C10      A0T0G1C9      A0T0G2C8  A0T0G3C7  A0T0G4C6  \\\n",
       "18318   99455  4.630000e-08  3.460000e-06  8.470000e-08 -0.000015  0.000007   \n",
       "6468   146199 -9.540000e-07  1.050000e-05  4.710000e-05  0.000046  0.000080   \n",
       "8917    28866 -9.540000e-07 -9.540000e-06 -4.290000e-05 -0.000114 -0.000200   \n",
       "13468  172353 -9.540000e-07 -9.540000e-06 -4.290000e-05 -0.000114 -0.000200   \n",
       "19883  160979 -9.540000e-07 -9.540000e-06 -4.290000e-05 -0.000114 -0.000200   \n",
       "...       ...           ...           ...           ...       ...       ...   \n",
       "10006  151457 -9.540000e-07  4.630000e-07  7.080000e-06 -0.000024  0.000040   \n",
       "23814  122209 -9.540000e-07 -9.540000e-06 -4.290000e-05 -0.000114 -0.000200   \n",
       "1361   192800 -9.540000e-07 -9.540000e-06 -4.290000e-05 -0.000114 -0.000200   \n",
       "8688    66290 -9.540000e-07 -9.540000e-06 -4.290000e-05 -0.000114 -0.000200   \n",
       "9944    42764 -9.540000e-07 -9.540000e-06 -4.290000e-05 -0.000114 -0.000200   \n",
       "\n",
       "       A0T0G5C5  A0T0G6C4  A0T0G7C3  A0T0G8C2  ...  A8T0G0C2  A8T0G1C1  \\\n",
       "18318 -0.000005 -0.000005  0.000003  0.000003  ...  0.000041  0.000138   \n",
       "6468   0.000230  0.000150  0.000096 -0.000023  ...  0.000027  0.000034   \n",
       "8917  -0.000240 -0.000200 -0.000114 -0.000043  ... -0.000043 -0.000086   \n",
       "13468 -0.000240 -0.000200 -0.000114 -0.000043  ... -0.000043 -0.000086   \n",
       "19883 -0.000240 -0.000200 -0.000114 -0.000043  ... -0.000043 -0.000086   \n",
       "...         ...       ...       ...       ...  ...       ...       ...   \n",
       "10006  0.000060  0.000040  0.000016 -0.000013  ...  0.000027  0.000094   \n",
       "23814 -0.000240 -0.000200 -0.000114 -0.000043  ... -0.000043 -0.000086   \n",
       "1361  -0.000240 -0.000200 -0.000114 -0.000043  ... -0.000043 -0.000086   \n",
       "8688   0.000760  0.000800  0.000886 -0.000043  ... -0.000043 -0.000086   \n",
       "9944  -0.000240 -0.000200 -0.000114 -0.000043  ... -0.000043  0.000914   \n",
       "\n",
       "       A8T0G2C0  A8T1G0C1  A8T1G1C0  A8T2G0C0  A9T0G0C1  A9T0G1C0  A9T1G0C0  \\\n",
       "18318  0.000077  0.000203  0.000216  0.000160  0.000027  0.000041  0.000041   \n",
       "6468   0.000057  0.000034  0.000034 -0.000033 -0.000010  0.000010 -0.000010   \n",
       "8917   0.001957 -0.000086 -0.000086 -0.000043 -0.000010 -0.000010 -0.000010   \n",
       "13468 -0.000043 -0.000086 -0.000086 -0.000043 -0.000010 -0.000010 -0.000010   \n",
       "19883 -0.000043 -0.000086 -0.000086 -0.000043 -0.000010 -0.000010 -0.000010   \n",
       "...         ...       ...       ...       ...       ...       ...       ...   \n",
       "10006  0.000087  0.000134  0.000224  0.000037  0.000010  0.000010  0.000021   \n",
       "23814 -0.000043 -0.000086 -0.000086 -0.000043 -0.000010 -0.000010 -0.000010   \n",
       "1361  -0.000043 -0.000086 -0.000086 -0.000043 -0.000010 -0.000010 -0.000010   \n",
       "8688  -0.000043 -0.000086 -0.000086 -0.000043 -0.000010 -0.000010 -0.000010   \n",
       "9944   0.000957 -0.000086  0.001914 -0.000043 -0.000010 -0.000010 -0.000010   \n",
       "\n",
       "          A10T0G0C0  \n",
       "18318  4.630000e-08  \n",
       "6468  -9.540000e-07  \n",
       "8917  -9.540000e-07  \n",
       "13468 -9.540000e-07  \n",
       "19883 -9.540000e-07  \n",
       "...             ...  \n",
       "10006 -9.540000e-07  \n",
       "23814 -9.540000e-07  \n",
       "1361  -9.540000e-07  \n",
       "8688  -9.540000e-07  \n",
       "9944  -9.540000e-07  \n",
       "\n",
       "[16800 rows x 287 columns]"
      ]
     },
     "execution_count": 9,
     "metadata": {},
     "output_type": "execute_result"
    }
   ],
   "source": [
    "X_train"
   ]
  },
  {
   "cell_type": "code",
   "execution_count": 10,
   "id": "e9586c97",
   "metadata": {
    "execution": {
     "iopub.execute_input": "2022-03-06T15:40:13.948560Z",
     "iopub.status.busy": "2022-03-06T15:40:13.948006Z",
     "iopub.status.idle": "2022-03-06T15:40:13.950950Z",
     "shell.execute_reply": "2022-03-06T15:40:13.951389Z",
     "shell.execute_reply.started": "2022-03-06T15:37:32.193018Z"
    },
    "papermill": {
     "duration": 0.030382,
     "end_time": "2022-03-06T15:40:13.951531",
     "exception": false,
     "start_time": "2022-03-06T15:40:13.921149",
     "status": "completed"
    },
    "tags": []
   },
   "outputs": [],
   "source": [
    "#from sklearn.linear_model import LogisticRegression\n",
    "#model = LogisticRegression()\n",
    "#model.fit(X_train,y_train)"
   ]
  },
  {
   "cell_type": "code",
   "execution_count": 11,
   "id": "9631a3e1",
   "metadata": {
    "execution": {
     "iopub.execute_input": "2022-03-06T15:40:14.004415Z",
     "iopub.status.busy": "2022-03-06T15:40:14.002912Z",
     "iopub.status.idle": "2022-03-06T15:40:14.005034Z",
     "shell.execute_reply": "2022-03-06T15:40:14.005424Z",
     "shell.execute_reply.started": "2022-03-06T15:37:32.198005Z"
    },
    "papermill": {
     "duration": 0.030175,
     "end_time": "2022-03-06T15:40:14.005567",
     "exception": false,
     "start_time": "2022-03-06T15:40:13.975392",
     "status": "completed"
    },
    "tags": []
   },
   "outputs": [],
   "source": [
    "#from sklearn.metrics import accuracy_score\n",
    "#pred = model.predict(X_test)\n",
    "#print('Accuracy score',accuracy_score(pred,y_test))"
   ]
  },
  {
   "cell_type": "code",
   "execution_count": 12,
   "id": "360c5331",
   "metadata": {
    "execution": {
     "iopub.execute_input": "2022-03-06T15:40:14.056742Z",
     "iopub.status.busy": "2022-03-06T15:40:14.056100Z",
     "iopub.status.idle": "2022-03-06T15:40:14.059022Z",
     "shell.execute_reply": "2022-03-06T15:40:14.059386Z",
     "shell.execute_reply.started": "2022-03-06T15:37:47.192929Z"
    },
    "papermill": {
     "duration": 0.030015,
     "end_time": "2022-03-06T15:40:14.059531",
     "exception": false,
     "start_time": "2022-03-06T15:40:14.029516",
     "status": "completed"
    },
    "tags": []
   },
   "outputs": [],
   "source": [
    "#type(pred)"
   ]
  },
  {
   "cell_type": "code",
   "execution_count": 13,
   "id": "5cbed06a",
   "metadata": {
    "execution": {
     "iopub.execute_input": "2022-03-06T15:40:14.111139Z",
     "iopub.status.busy": "2022-03-06T15:40:14.110403Z",
     "iopub.status.idle": "2022-03-06T15:40:14.551302Z",
     "shell.execute_reply": "2022-03-06T15:40:14.550451Z",
     "shell.execute_reply.started": "2022-03-06T15:37:59.160139Z"
    },
    "papermill": {
     "duration": 0.46782,
     "end_time": "2022-03-06T15:40:14.551478",
     "exception": false,
     "start_time": "2022-03-06T15:40:14.083658",
     "status": "completed"
    },
    "tags": []
   },
   "outputs": [],
   "source": [
    "test = pd.read_csv('../input/dphi-genetic-bacteria-identification/test_dataset.csv')\n",
    "#target = model.predict(test)"
   ]
  },
  {
   "cell_type": "code",
   "execution_count": 14,
   "id": "087ecd1d",
   "metadata": {
    "execution": {
     "iopub.execute_input": "2022-03-06T15:40:14.607776Z",
     "iopub.status.busy": "2022-03-06T15:40:14.607039Z",
     "iopub.status.idle": "2022-03-06T15:40:14.609135Z",
     "shell.execute_reply": "2022-03-06T15:40:14.609533Z",
     "shell.execute_reply.started": "2022-03-06T15:37:32.317156Z"
    },
    "papermill": {
     "duration": 0.031962,
     "end_time": "2022-03-06T15:40:14.609671",
     "exception": false,
     "start_time": "2022-03-06T15:40:14.577709",
     "status": "completed"
    },
    "tags": []
   },
   "outputs": [],
   "source": [
    "#type(target)"
   ]
  },
  {
   "cell_type": "code",
   "execution_count": 15,
   "id": "baed253b",
   "metadata": {
    "execution": {
     "iopub.execute_input": "2022-03-06T15:40:14.661467Z",
     "iopub.status.busy": "2022-03-06T15:40:14.660621Z",
     "iopub.status.idle": "2022-03-06T15:40:14.663198Z",
     "shell.execute_reply": "2022-03-06T15:40:14.662817Z",
     "shell.execute_reply.started": "2022-03-06T15:37:32.318887Z"
    },
    "papermill": {
     "duration": 0.029685,
     "end_time": "2022-03-06T15:40:14.663312",
     "exception": false,
     "start_time": "2022-03-06T15:40:14.633627",
     "status": "completed"
    },
    "tags": []
   },
   "outputs": [],
   "source": [
    "#df = pd.DataFrame(target, columns = ['target'])\n",
    "#df.to_csv('Output2.csv')"
   ]
  },
  {
   "cell_type": "code",
   "execution_count": 16,
   "id": "b877c979",
   "metadata": {
    "execution": {
     "iopub.execute_input": "2022-03-06T15:40:14.734148Z",
     "iopub.status.busy": "2022-03-06T15:40:14.733006Z",
     "iopub.status.idle": "2022-03-06T15:40:14.736128Z",
     "shell.execute_reply": "2022-03-06T15:40:14.736555Z",
     "shell.execute_reply.started": "2022-03-06T15:38:04.066329Z"
    },
    "papermill": {
     "duration": 0.049526,
     "end_time": "2022-03-06T15:40:14.736692",
     "exception": false,
     "start_time": "2022-03-06T15:40:14.687166",
     "status": "completed"
    },
    "tags": []
   },
   "outputs": [
    {
     "data": {
      "text/plain": [
       "((24000, 287), (24000,), (6000, 287))"
      ]
     },
     "execution_count": 16,
     "metadata": {},
     "output_type": "execute_result"
    }
   ],
   "source": [
    "X_train = train.iloc[:, :-1]\n",
    "X_test = test\n",
    "y_train = train.iloc[:,-1]\n",
    "X_train.shape, y_train.shape, X_test.shape"
   ]
  },
  {
   "cell_type": "code",
   "execution_count": 17,
   "id": "986842f9",
   "metadata": {
    "execution": {
     "iopub.execute_input": "2022-03-06T15:40:14.790500Z",
     "iopub.status.busy": "2022-03-06T15:40:14.789931Z",
     "iopub.status.idle": "2022-03-06T15:40:14.984138Z",
     "shell.execute_reply": "2022-03-06T15:40:14.984595Z",
     "shell.execute_reply.started": "2022-03-06T15:38:06.159582Z"
    },
    "papermill": {
     "duration": 0.22299,
     "end_time": "2022-03-06T15:40:14.984751",
     "exception": false,
     "start_time": "2022-03-06T15:40:14.761761",
     "status": "completed"
    },
    "tags": []
   },
   "outputs": [
    {
     "data": {
      "text/plain": [
       "GaussianNB()"
      ]
     },
     "execution_count": 17,
     "metadata": {},
     "output_type": "execute_result"
    }
   ],
   "source": [
    "from sklearn.naive_bayes import GaussianNB\n",
    "classifier = GaussianNB()\n",
    "classifier.fit(X_train, y_train)"
   ]
  },
  {
   "cell_type": "code",
   "execution_count": 18,
   "id": "4afc31fd",
   "metadata": {
    "execution": {
     "iopub.execute_input": "2022-03-06T15:40:15.045046Z",
     "iopub.status.busy": "2022-03-06T15:40:15.043942Z",
     "iopub.status.idle": "2022-03-06T15:40:15.140780Z",
     "shell.execute_reply": "2022-03-06T15:40:15.139861Z",
     "shell.execute_reply.started": "2022-03-06T15:38:10.198889Z"
    },
    "papermill": {
     "duration": 0.130295,
     "end_time": "2022-03-06T15:40:15.140937",
     "exception": false,
     "start_time": "2022-03-06T15:40:15.010642",
     "status": "completed"
    },
    "tags": []
   },
   "outputs": [],
   "source": [
    "nb_pred = classifier.predict(X_test)"
   ]
  },
  {
   "cell_type": "code",
   "execution_count": 19,
   "id": "63582fca",
   "metadata": {
    "execution": {
     "iopub.execute_input": "2022-03-06T15:40:15.201492Z",
     "iopub.status.busy": "2022-03-06T15:40:15.200368Z",
     "iopub.status.idle": "2022-03-06T15:40:15.295282Z",
     "shell.execute_reply": "2022-03-06T15:40:15.294826Z",
     "shell.execute_reply.started": "2022-03-06T15:38:11.798996Z"
    },
    "papermill": {
     "duration": 0.12878,
     "end_time": "2022-03-06T15:40:15.295422",
     "exception": false,
     "start_time": "2022-03-06T15:40:15.166642",
     "status": "completed"
    },
    "tags": []
   },
   "outputs": [],
   "source": [
    "#print('Accuracy score',accuracy_score(nb_pred,y_test))\n",
    "target1 = classifier.predict(X_test)"
   ]
  },
  {
   "cell_type": "code",
   "execution_count": 20,
   "id": "3a056e4d",
   "metadata": {
    "execution": {
     "iopub.execute_input": "2022-03-06T15:40:15.350722Z",
     "iopub.status.busy": "2022-03-06T15:40:15.350018Z",
     "iopub.status.idle": "2022-03-06T15:40:15.368462Z",
     "shell.execute_reply": "2022-03-06T15:40:15.367983Z",
     "shell.execute_reply.started": "2022-03-06T15:38:15.097329Z"
    },
    "papermill": {
     "duration": 0.047887,
     "end_time": "2022-03-06T15:40:15.368577",
     "exception": false,
     "start_time": "2022-03-06T15:40:15.320690",
     "status": "completed"
    },
    "tags": []
   },
   "outputs": [],
   "source": [
    "df1 = pd.DataFrame(target1, columns = ['target'])\n",
    "df1.to_csv('Output4.csv')"
   ]
  },
  {
   "cell_type": "code",
   "execution_count": 21,
   "id": "d7ee4459",
   "metadata": {
    "execution": {
     "iopub.execute_input": "2022-03-06T15:40:15.421803Z",
     "iopub.status.busy": "2022-03-06T15:40:15.421197Z",
     "iopub.status.idle": "2022-03-06T15:40:18.778267Z",
     "shell.execute_reply": "2022-03-06T15:40:18.777800Z",
     "shell.execute_reply.started": "2022-03-06T15:38:16.422057Z"
    },
    "papermill": {
     "duration": 3.385158,
     "end_time": "2022-03-06T15:40:18.778407",
     "exception": false,
     "start_time": "2022-03-06T15:40:15.393249",
     "status": "completed"
    },
    "tags": []
   },
   "outputs": [],
   "source": [
    "from sklearn.tree import DecisionTreeClassifier\n",
    "clf = DecisionTreeClassifier()\n",
    "\n",
    "# Train Decision Tree Classifer\n",
    "clf = clf.fit(X_train,y_train)\n",
    "\n",
    "#Predict the response for test dataset\n",
    "y_pred = clf.predict(X_test)"
   ]
  },
  {
   "cell_type": "code",
   "execution_count": 22,
   "id": "15541824",
   "metadata": {
    "execution": {
     "iopub.execute_input": "2022-03-06T15:40:18.839500Z",
     "iopub.status.busy": "2022-03-06T15:40:18.832496Z",
     "iopub.status.idle": "2022-03-06T15:40:18.850859Z",
     "shell.execute_reply": "2022-03-06T15:40:18.850452Z",
     "shell.execute_reply.started": "2022-03-06T15:38:20.635124Z"
    },
    "papermill": {
     "duration": 0.047381,
     "end_time": "2022-03-06T15:40:18.850967",
     "exception": false,
     "start_time": "2022-03-06T15:40:18.803586",
     "status": "completed"
    },
    "tags": []
   },
   "outputs": [],
   "source": [
    "df2 = pd.DataFrame(y_pred, columns = ['target'])\n",
    "df2.to_csv('Output5.csv')"
   ]
  },
  {
   "cell_type": "code",
   "execution_count": 23,
   "id": "45ea9fde",
   "metadata": {
    "execution": {
     "iopub.execute_input": "2022-03-06T15:40:18.909008Z",
     "iopub.status.busy": "2022-03-06T15:40:18.907961Z",
     "iopub.status.idle": "2022-03-06T15:40:20.224497Z",
     "shell.execute_reply": "2022-03-06T15:40:20.223989Z",
     "shell.execute_reply.started": "2022-03-06T15:38:25.177342Z"
    },
    "papermill": {
     "duration": 1.348928,
     "end_time": "2022-03-06T15:40:20.224651",
     "exception": false,
     "start_time": "2022-03-06T15:40:18.875723",
     "status": "completed"
    },
    "tags": []
   },
   "outputs": [],
   "source": [
    "clf1 = DecisionTreeClassifier(criterion=\"entropy\", max_depth=3)\n",
    "\n",
    "# Train Decision Tree Classifer\n",
    "clf1 = clf1.fit(X_train,y_train)\n",
    "\n",
    "#Predict the response for test dataset\n",
    "y_pred1 = clf1.predict(X_test)\n",
    "\n",
    "df3 = pd.DataFrame(y_pred1, columns = ['target'])\n",
    "df3.to_csv('Output6.csv')"
   ]
  },
  {
   "cell_type": "code",
   "execution_count": null,
   "id": "2675a589",
   "metadata": {
    "papermill": {
     "duration": 0.027393,
     "end_time": "2022-03-06T15:40:20.279405",
     "exception": false,
     "start_time": "2022-03-06T15:40:20.252012",
     "status": "completed"
    },
    "tags": []
   },
   "outputs": [],
   "source": []
  }
 ],
 "metadata": {
  "kernelspec": {
   "display_name": "Python 3",
   "language": "python",
   "name": "python3"
  },
  "language_info": {
   "codemirror_mode": {
    "name": "ipython",
    "version": 3
   },
   "file_extension": ".py",
   "mimetype": "text/x-python",
   "name": "python",
   "nbconvert_exporter": "python",
   "pygments_lexer": "ipython3",
   "version": "3.7.12"
  },
  "papermill": {
   "default_parameters": {},
   "duration": 19.594048,
   "end_time": "2022-03-06T15:40:20.814174",
   "environment_variables": {},
   "exception": null,
   "input_path": "__notebook__.ipynb",
   "output_path": "__notebook__.ipynb",
   "parameters": {},
   "start_time": "2022-03-06T15:40:01.220126",
   "version": "2.3.3"
  }
 },
 "nbformat": 4,
 "nbformat_minor": 5
}
